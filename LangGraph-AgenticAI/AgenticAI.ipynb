{
 "cells": [
  {
   "cell_type": "code",
   "execution_count": 1,
   "metadata": {},
   "outputs": [],
   "source": [
    "## Wiki and Arxiv calling\n",
    "\n",
    "from langchain_community.tools import ArxivQueryRun,WikipediaQueryRun\n",
    "from langchain_community.utilities import ArxivAPIWrapper,WikipediaAPIWrapper"
   ]
  },
  {
   "cell_type": "code",
   "execution_count": 2,
   "metadata": {},
   "outputs": [
    {
     "name": "stdout",
     "output_type": "stream",
     "text": [
      "arxiv\n"
     ]
    }
   ],
   "source": [
    "api_wrapper_arxiv=ArxivAPIWrapper(top_k_results=1,doc_content_chars_max=500)\n",
    "arxiv=ArxivQueryRun(api_wrapper=api_wrapper_arxiv,description=\"Query Arxiv papers\")\n",
    "print(arxiv.name)"
   ]
  },
  {
   "cell_type": "code",
   "execution_count": 3,
   "metadata": {},
   "outputs": [
    {
     "data": {
      "text/plain": [
       "\"Published: 2024-07-22\\nTitle: Attention Is All You Need But You Don't Need All Of It For Inference of Large Language Models\\nAuthors: Georgy Tyukin, Gbetondji J-S Dovonon, Jean Kaddour, Pasquale Minervini\\nSummary: The inference demand for LLMs has skyrocketed in recent months, and serving\\nmodels with low latencies remains challenging due to the quadratic input length\\ncomplexity of the attention layers. In this work, we investigate the effect of\\ndropping MLP and attention layers at inference time o\""
      ]
     },
     "execution_count": 3,
     "metadata": {},
     "output_type": "execute_result"
    }
   ],
   "source": [
    "arxiv.invoke('Attention is all you need')"
   ]
  },
  {
   "cell_type": "code",
   "execution_count": 4,
   "metadata": {},
   "outputs": [
    {
     "name": "stdout",
     "output_type": "stream",
     "text": [
      "wikipedia\n"
     ]
    }
   ],
   "source": [
    "api_wrapper_wiki=WikipediaAPIWrapper(top_k_results=1,doc_content_chars_max=500)\n",
    "wiki=WikipediaQueryRun(api_wrapper=api_wrapper_wiki)\n",
    "print(wiki.name)"
   ]
  },
  {
   "cell_type": "code",
   "execution_count": 5,
   "metadata": {},
   "outputs": [
    {
     "data": {
      "text/plain": [
       "'Page: Computer\\nSummary: A computer is a machine that can be programmed to automatically carry out sequences of arithmetic or logical operations (computation). Modern digital electronic computers can perform generic sets of operations known as programs. These programs enable computers to perform a wide range of tasks. The term computer system may refer to a nominally complete computer that includes the hardware, operating system, software, and peripheral equipment needed and used for full operati'"
      ]
     },
     "execution_count": 5,
     "metadata": {},
     "output_type": "execute_result"
    }
   ],
   "source": [
    "wiki.invoke('who is the father of computer?')"
   ]
  },
  {
   "cell_type": "code",
   "execution_count": 6,
   "metadata": {},
   "outputs": [],
   "source": [
    "from dotenv import load_dotenv\n",
    "load_dotenv()\n",
    "\n",
    "import os\n",
    "\n",
    "os.environ['Tavily_API_key']=os.getenv(\"Tavily_API_key\")\n",
    "os.environ[\"Groq_API_key\"]=os.getenv(\"Groq_API_key\")"
   ]
  },
  {
   "cell_type": "code",
   "execution_count": 7,
   "metadata": {},
   "outputs": [],
   "source": [
    "from langchain_community.tools.tavily_search import TavilySearchResults\n",
    "\n",
    "tavily=TavilySearchResults()"
   ]
  },
  {
   "cell_type": "code",
   "execution_count": 8,
   "metadata": {},
   "outputs": [
    {
     "data": {
      "text/plain": [
       "[{'url': 'https://traveltriangle.com/blog/kerala-cuisine/',\n",
       "  'content': 'One of the famous dishes of Kerala is Idiyappam which is relished by most of the people. Also known as Noolappam in Kerala cuisine, Idiyappam, food of Kerala, is made of rice flour, salt and water with a number of thin strands or sevai entwined together to make the lovely texture that this dish bears. It is this texture that makes it versatile. You can have it with all kinds of curries, but it tastes best with Egg Curry. [...] The Kerala staple food revolves around an abundance of coconut, rice, tapioca, and spices like black pepper, cloves, cinnamon, and ginger. Kerala famous food also features a variety of seafood like fish, prawns, mussels, lobsters, and crabs owing to the state’s long coastline.\\n\\nHow costly is food in Kerala? [...] The staple food of Kerala is greatly influenced by the history and culture of the state. It’s a blend of both vegetarian and non-vegetarian options, in which the latter is prepared a variety of items like fish, poultry and red meat. Rice, fish, and coconut are the most common ingredients of almost all Kerala famous food. The flavours are enhanced with chillies, curry leaves, mustard seeds, turmeric tamarind, black pepper, cardamom, clove, ginger, cinnamon, and asafoetida.\\n\\nImage Source'},\n",
       " {'url': 'https://www.holidify.com/pages/food-of-kerala-1328.html',\n",
       "  'content': 'Packages\\n\\nHotels\\n\\nCollections\\n\\n© Holidify Travels Pvt Ltd.- All Right Reserved\\n\\nKerala Cuisine: 22 Famous Kerala Food and Dishes\\n\\n1. Puttu and Kadala Curry - Traditional\\xa0Food of Kerala\\n\\nPuttu source [...] 21. Thattu Dosa with Chutney\\n\\nThattu Dosa is famous street-food in Kerala. A batter with rice and urad dal is made and fermented overnight. The next day the dosa is prepared on a flat non-stick pan like a crepe. Then the dosa is served with 2-3 kinds of chutneys and sambar.\\n\\n22. Banana Halwa [...] A traditional dessert, prepared during the festival of Onam or any other occasion is a simple rice pudding or kheer, made in almost all the households across Kerala. The most authentic version of this Kerala food dish is made out of rice ada (which is easily available in any Keralite grocery store), sugar, milk and ghee. After all any special occasion is incomplete without the favourite payasam!\\n\\n11. Sadhya - Famous Kerala Food\\n\\nSource'},\n",
       " {'url': 'https://www.bbcgoodfood.com/travel/global/top-10-foods-try-kerala',\n",
       "  'content': 'The Portuguese introduced cassava, now widely eaten in Kerala. The region is also famous for its Sadhya, served at the Hindu festival Onam and consisting of boiled rice and a host of vegetarian dishes on a banana leaf. Kerala cuisine also features a lot of sea food like fish, prawns, mussels and crabs because of its long coastline.'},\n",
       " {'url': 'https://en.wikipedia.org/wiki/Kerala_cuisine',\n",
       "  'content': 'Having been a major production area of spices for thousands of years, the region makes frequent use of black pepper, cardamom, clove, ginger, and cinnamon. Kerala also has a variety of breakfast dishes like idli, dosa, appam, idiyappam, puttu, and pathiri.[6]\\n\\nSnacks\\n\\nKerala is known for its delicious and unique snacks that are popular across India. Here are some of the most famous ones:\\n\\nBreads'}]"
      ]
     },
     "execution_count": 8,
     "metadata": {},
     "output_type": "execute_result"
    }
   ],
   "source": [
    "tavily.invoke('what is the famous kerala food')"
   ]
  },
  {
   "cell_type": "code",
   "execution_count": 9,
   "metadata": {},
   "outputs": [],
   "source": [
    "from langchain_groq import ChatGroq\n",
    "\n",
    "llm=ChatGroq(model=\"Qwen-Qwq-32b\")"
   ]
  },
  {
   "cell_type": "code",
   "execution_count": 10,
   "metadata": {},
   "outputs": [],
   "source": [
    "tools=[arxiv,wiki,tavily]"
   ]
  },
  {
   "cell_type": "code",
   "execution_count": 11,
   "metadata": {},
   "outputs": [
    {
     "data": {
      "text/plain": [
       "AIMessage(content='\\n<think>\\nOkay, the user is asking \"who is ronaldo?\" so I need to explain who Ronaldo is. There are two famous footballers named Ronaldo. The more recent one is Cristiano Ronaldo, the Portuguese player. The older one is Ronaldo Luís Nazário de Lima from Brazil. I should mention both to be thorough.\\n\\nFirst, I\\'ll start with Cristiano Ronaldo. He\\'s a well-known forward, plays for Al-Nassr now, right? Wait, he left Manchester United in 2021 and joined Al-Nassr in 2023? I should check the latest info. Also, he\\'s played for Manchester United, Real Madrid, and Juventus. He\\'s known for his skills like heading, free kicks, and he\\'s a top scorer. He\\'s won the Ballon d\\'Or several times, maybe five? And he\\'s in the FIFA World Cup with Portugal, but they haven\\'t won it yet. Maybe mention his personal life, like his family and philanthropy?\\n\\nThen the Brazilian Ronaldo, who played in the late 90s and early 2000s. He was also a striker, known as \"The Phenomenon.\" He played for clubs like Barcelona and Inter Milan, and was part of Brazil\\'s World Cup wins in 1994 and 2002. His career was cut short due to injuries, though. He\\'s now a sports commentator or something.\\n\\nI should structure the answer by first stating that there are two prominent players named Ronaldo. Then give a brief overview of each, their careers, key achievements, and maybe some personal details. Make sure to clarify their nationalities to avoid confusion. Also, highlight their unique playing styles and how they\\'re remembered in football history.\\n\\nWait, need to confirm the exact number of Ballon d\\'Or awards for Cristiano. I think it\\'s five: 2008, 2013, 2014, 2016, 2017. And he\\'s the first to win it in both the European and Serie A leagues. Also, his scoring records, like most international goals. Maybe mention his role in Real Madrid\\'s success, like winning the Champions League multiple times.\\n\\nFor the Brazilian Ronaldo, his nicknames like \"O Fenômeno,\" his prolific scoring, his time at Barcelona and Inter Milan, and his World Cup wins. Also, his injuries, especially the knee issues that affected his later career.\\n\\nAlso, maybe a note on their legacy. Cristiano is still active, so his stats might still be updating, while the Brazilian Ronaldo is retired. Make sure to present them clearly and concisely, so the user can distinguish between the two.\\n\\nDouble-check any stats I\\'m unsure about. For example, Cristiano\\'s current club is Al-Nassr, yes. He has over 800 career goals. The Brazilian Ronaldo has 62 goals in 98 caps. Both are considered two of the greatest players of all time, along with Messi, maybe?\\n\\nAvoid any errors like mixing up their stats or achievements. Also, mention their positions, playing styles, and maybe their playing eras to differentiate them clearly. Make sure the answer is easy to understand, not too technical, but informative.\\n</think>\\n\\n**Ronaldo** refers to two of the most celebrated footballers in history, known for their exceptional talent and impact on the sport. Here\\'s a breakdown of both:\\n\\n---\\n\\n### 1. **Cristiano Ronaldo** (Portugal, born 1985)\\n   - **Nationality**: Portuguese.\\n   - **Position**: Forward.\\n   - **Career**: One of the most decorated players in history, Ronaldo has played for:\\n     - **Manchester United** (2003–2009, 2021–2022).\\n     - **Real Madrid** (2009–2018), where he won four **UEFA Champions League titles**.\\n     - **Juventus** (2018–2021).\\n     - **Al-Nassr** (2023–present).\\n   - **Achievements**:\\n     - **5× Ballon d\\'Or** (2008, 2013, 2014, 2016, 2017).\\n     - **Most international goals** in history (over 120 as of 2023).\\n     - Holds records for most Champions League goals (140+), hat-tricks, and career hat-tricks.\\n     - Won the **UEFA Nations League with Portugal** (2019–2020).\\n   - **Style**: Known for his athleticism, heading ability, free-kick prowess, and unmatched work ethic.\\n   - **Legacy**: Considered one of the greatest players of all time, alongside Lionel Messi.\\n\\n---\\n\\n### 2. **Ronaldo Luís Nazário de Lima** (\"Ronaldo\" or \"O Fenômeno,\" Brazil, born 1976)\\n   - **Nationality**: Brazilian.\\n   - **Position**: Striker.\\n   - **Career**: Known as \"The Phenomenon\" for his explosive speed and finishing. Key clubs included:\\n     - **Barcelona** (1996–1999).\\n     - **Inter Milan** (1999–2002, 2004–2007).\\n     - **Real Madrid** (2002–2004).\\n   - **Achievements**:\\n     - Helped Brazil win the **1994 and 2002 FIFA World Cups**.\\n     - Won the **1999 FIFA World Player of the Year**.\\n     - Scored **62 international goals** in 98 caps.\\n   - **Style**: Played as a \"nine\" (central striker), famous for his agility, speed, and clinical finishing.\\n   - **Legacy**: One of Brazil\\'s greatest legends, though his career was cut short by injuries (knee, knee, and groin issues).\\n\\n---\\n\\n### Key Differences:\\n- **Cristiano Ronaldo** (Portuguese) is still active and focuses on record-breaking and longevity.\\n- **Ronaldo Nazário** (Brazilian) retired in 2011 and is remembered for his explosive talent and World Cup triumphs.\\n\\nBoth are iconic figures, contributing to football\\'s global popularity and often compared as two of the game\\'s all-time greats.', response_metadata={'token_usage': {'completion_tokens': 1356, 'prompt_tokens': 16, 'total_tokens': 1372, 'completion_time': 3.315994851, 'prompt_time': 0.003109998, 'queue_time': 0.240766641, 'total_time': 3.319104849}, 'model_name': 'Qwen-Qwq-32b', 'system_fingerprint': 'fp_512a3da6bb', 'finish_reason': 'stop', 'logprobs': None}, id='run-cf08c40e-ac7f-43b3-bb36-286ea5f904ac-0', usage_metadata={'input_tokens': 16, 'output_tokens': 1356, 'total_tokens': 1372})"
      ]
     },
     "execution_count": 11,
     "metadata": {},
     "output_type": "execute_result"
    }
   ],
   "source": [
    "llm.invoke(\"who is ronaldo?\")"
   ]
  },
  {
   "cell_type": "code",
   "execution_count": 12,
   "metadata": {},
   "outputs": [],
   "source": [
    "llm_with_tools=llm.bind_tools(tools=tools)"
   ]
  },
  {
   "cell_type": "code",
   "execution_count": 13,
   "metadata": {},
   "outputs": [
    {
     "data": {
      "text/plain": [
       "AIMessage(content='', additional_kwargs={'tool_calls': [{'id': 'call_gvwd', 'function': {'arguments': '{\"query\": \"latest news about India Pakistan conflict\"}', 'name': 'tavily_search_results_json'}, 'type': 'function'}]}, response_metadata={'token_usage': {'completion_tokens': 347, 'prompt_tokens': 358, 'total_tokens': 705, 'completion_time': 0.842233329, 'prompt_time': 0.020016681, 'queue_time': 0.248824268, 'total_time': 0.86225001}, 'model_name': 'Qwen-Qwq-32b', 'system_fingerprint': 'fp_1e88ca32eb', 'finish_reason': 'tool_calls', 'logprobs': None}, id='run-78ffbf45-270d-409e-a80a-c0bd87188cb6-0', tool_calls=[{'name': 'tavily_search_results_json', 'args': {'query': 'latest news about India Pakistan conflict'}, 'id': 'call_gvwd', 'type': 'tool_call'}], usage_metadata={'input_tokens': 358, 'output_tokens': 347, 'total_tokens': 705})"
      ]
     },
     "execution_count": 13,
     "metadata": {},
     "output_type": "execute_result"
    }
   ],
   "source": [
    "# Calling tavily tool\n",
    "\n",
    "llm_with_tools.invoke(\"what is the resent news about india pak war?\")"
   ]
  },
  {
   "cell_type": "code",
   "execution_count": 14,
   "metadata": {},
   "outputs": [
    {
     "data": {
      "text/plain": [
       "AIMessage(content='', additional_kwargs={'tool_calls': [{'id': 'call_wnbx', 'function': {'arguments': '{\"query\": \"quantum computing\"}', 'name': 'arxiv'}, 'type': 'function'}]}, response_metadata={'token_usage': {'completion_tokens': 156, 'prompt_tokens': 357, 'total_tokens': 513, 'completion_time': 0.380757675, 'prompt_time': 0.037688007, 'queue_time': 0.246307572, 'total_time': 0.418445682}, 'model_name': 'Qwen-Qwq-32b', 'system_fingerprint': 'fp_512a3da6bb', 'finish_reason': 'tool_calls', 'logprobs': None}, id='run-c6106cbd-edcc-4ef2-b003-897c962ce299-0', tool_calls=[{'name': 'arxiv', 'args': {'query': 'quantum computing'}, 'id': 'call_wnbx', 'type': 'tool_call'}], usage_metadata={'input_tokens': 357, 'output_tokens': 156, 'total_tokens': 513})"
      ]
     },
     "execution_count": 14,
     "metadata": {},
     "output_type": "execute_result"
    }
   ],
   "source": [
    "# Calling Arxiv tool\n",
    "\n",
    "llm_with_tools.invoke(\"what is the latest research on quantum computing?\")"
   ]
  },
  {
   "cell_type": "code",
   "execution_count": 15,
   "metadata": {},
   "outputs": [
    {
     "data": {
      "text/plain": [
       "AIMessage(content='', additional_kwargs={'tool_calls': [{'id': 'call_e795', 'function': {'arguments': '{\"query\": \"Machine learning\"}', 'name': 'wikipedia'}, 'type': 'function'}]}, response_metadata={'token_usage': {'completion_tokens': 275, 'prompt_tokens': 353, 'total_tokens': 628, 'completion_time': 0.669999117, 'prompt_time': 0.031630679, 'queue_time': 0.44983971100000003, 'total_time': 0.701629796}, 'model_name': 'Qwen-Qwq-32b', 'system_fingerprint': 'fp_512a3da6bb', 'finish_reason': 'tool_calls', 'logprobs': None}, id='run-66e7dee0-9eb0-4324-8eba-f1e6b9e158c3-0', tool_calls=[{'name': 'wikipedia', 'args': {'query': 'Machine learning'}, 'id': 'call_e795', 'type': 'tool_call'}], usage_metadata={'input_tokens': 353, 'output_tokens': 275, 'total_tokens': 628})"
      ]
     },
     "execution_count": 15,
     "metadata": {},
     "output_type": "execute_result"
    }
   ],
   "source": [
    "# Callng Wikipedia\n",
    "\n",
    "llm_with_tools.invoke(\"what is machine learning?\")"
   ]
  },
  {
   "cell_type": "code",
   "execution_count": 16,
   "metadata": {},
   "outputs": [],
   "source": [
    "from typing_extensions import TypedDict\n",
    "from langchain_core.messages import AnyMessage\n",
    "from typing import Annotated\n",
    "from langgraph.graph.message import add_messages"
   ]
  },
  {
   "cell_type": "code",
   "execution_count": 17,
   "metadata": {},
   "outputs": [],
   "source": [
    "class State(TypedDict):\n",
    "    messages : Annotated[list[AnyMessage],add_messages]"
   ]
  },
  {
   "cell_type": "code",
   "execution_count": 18,
   "metadata": {},
   "outputs": [],
   "source": [
    "from IPython.display import Image, display\n",
    "from langgraph.graph import StateGraph,START,END\n",
    "from langgraph.prebuilt import ToolNode\n",
    "from langgraph.prebuilt import tools_condition\n"
   ]
  },
  {
   "cell_type": "code",
   "execution_count": 19,
   "metadata": {},
   "outputs": [
    {
     "data": {
      "text/plain": [
       "<langgraph.graph.state.StateGraph at 0x1a7ce8a0a40>"
      ]
     },
     "execution_count": 19,
     "metadata": {},
     "output_type": "execute_result"
    }
   ],
   "source": [
    "def tool_calling_llm(state:State):\n",
    "    return {'messages':[llm_with_tools.invoke(state[\"messages\"])]}\n",
    "\n",
    "builder=StateGraph(State)\n",
    "builder.add_node('tool_calling_llm',tool_calling_llm)\n",
    "builder.add_node('tools',ToolNode(tools))"
   ]
  },
  {
   "cell_type": "code",
   "execution_count": 20,
   "metadata": {},
   "outputs": [
    {
     "data": {
      "text/plain": [
       "<langgraph.graph.state.StateGraph at 0x1a7ce8a0a40>"
      ]
     },
     "execution_count": 20,
     "metadata": {},
     "output_type": "execute_result"
    }
   ],
   "source": [
    "builder.add_edge(START,'tool_calling_llm')\n",
    "builder.add_conditional_edges('tool_calling_llm',tools_condition,)\n",
    "builder.add_edge('tools','tool_calling_llm')"
   ]
  },
  {
   "cell_type": "code",
   "execution_count": 21,
   "metadata": {},
   "outputs": [],
   "source": [
    "graph=builder.compile()"
   ]
  },
  {
   "cell_type": "code",
   "execution_count": 22,
   "metadata": {},
   "outputs": [
    {
     "name": "stdout",
     "output_type": "stream",
     "text": [
      "%%{init: {'flowchart': {'curve': 'linear'}}}%%\n",
      "graph TD;\n",
      "\t__start__([<p>__start__</p>]):::first\n",
      "\ttool_calling_llm(tool_calling_llm)\n",
      "\ttools(tools)\n",
      "\t__end__([<p>__end__</p>]):::last\n",
      "\t__start__ --> tool_calling_llm;\n",
      "\ttool_calling_llm -.-> __end__;\n",
      "\ttool_calling_llm -.-> tools;\n",
      "\ttools --> tool_calling_llm;\n",
      "\tclassDef default fill:#f2f0ff,line-height:1.2\n",
      "\tclassDef first fill-opacity:0\n",
      "\tclassDef last fill:#bfb6fc\n",
      "\n"
     ]
    }
   ],
   "source": [
    "print(graph.get_graph().draw_mermaid())"
   ]
  },
  {
   "cell_type": "markdown",
   "metadata": {},
   "source": [
    "![Alt text](Mermaid_graph.svg)\n"
   ]
  },
  {
   "cell_type": "code",
   "execution_count": 23,
   "metadata": {},
   "outputs": [
    {
     "name": "stdout",
     "output_type": "stream",
     "text": [
      "================================\u001b[1m Human Message \u001b[0m=================================\n",
      "\n",
      "1706.03762\n",
      "==================================\u001b[1m Ai Message \u001b[0m==================================\n",
      "Tool Calls:\n",
      "  arxiv (call_n83t)\n",
      " Call ID: call_n83t\n",
      "  Args:\n",
      "    query: 1706.03762\n",
      "=================================\u001b[1m Tool Message \u001b[0m=================================\n",
      "Name: arxiv\n",
      "\n",
      "Published: 2023-08-02\n",
      "Title: Attention Is All You Need\n",
      "Authors: Ashish Vaswani, Noam Shazeer, Niki Parmar, Jakob Uszkoreit, Llion Jones, Aidan N. Gomez, Lukasz Kaiser, Illia Polosukhin\n",
      "Summary: The dominant sequence transduction models are based on complex recurrent or\n",
      "convolutional neural networks in an encoder-decoder configuration. The best\n",
      "performing models also connect the encoder and decoder through an attention\n",
      "mechanism. We propose a new simple network architecture, the Transformer, base\n",
      "==================================\u001b[1m Ai Message \u001b[0m==================================\n",
      "\n",
      "Here's the information for the ArXiv paper with ID 1706.03762:\n",
      "\n",
      "**Title:** *Attention Is All You Need*  \n",
      "**Authors:** Ashish Vaswani, Noam Shazeer, Niki Parmar, Jakob Uszkoreit, Llion Jones, Aidan N. Gomez, Lukasz Kaiser, Illia Polosukhin  \n",
      "**Summary:** This groundbreaking paper introduced the **Transformer architecture**, which revolutionized sequence transduction tasks by replacing recurrent networks with self-attention mechanisms. The model has become the foundation of many modern AI systems, including large language models like me.\n",
      "\n",
      "Would you like me to explain any specific aspect of this paper or its impact on AI?\n"
     ]
    }
   ],
   "source": [
    "# Calling the Arxiv tool through llm\n",
    "\n",
    "messages=graph.invoke({\"messages\":\"1706.03762\"})\n",
    "for m in messages[\"messages\"]:\n",
    "    m.pretty_print()"
   ]
  },
  {
   "cell_type": "code",
   "execution_count": 24,
   "metadata": {},
   "outputs": [
    {
     "name": "stdout",
     "output_type": "stream",
     "text": [
      "================================\u001b[1m Human Message \u001b[0m=================================\n",
      "\n",
      "what is 2 plus 2?\n",
      "==================================\u001b[1m Ai Message \u001b[0m==================================\n",
      "\n",
      "The result of 2 plus 2 is 4.\n"
     ]
    }
   ],
   "source": [
    "# Directly calling the llm\n",
    "\n",
    "messages=graph.invoke({\"messages\":\"what is 2 plus 2?\"})\n",
    "for m in messages[\"messages\"]:\n",
    "    m.pretty_print()"
   ]
  },
  {
   "cell_type": "code",
   "execution_count": 25,
   "metadata": {},
   "outputs": [
    {
     "name": "stdout",
     "output_type": "stream",
     "text": [
      "================================\u001b[1m Human Message \u001b[0m=================================\n",
      "\n",
      "who is ronaldo\n",
      "==================================\u001b[1m Ai Message \u001b[0m==================================\n",
      "Tool Calls:\n",
      "  wikipedia (call_959m)\n",
      " Call ID: call_959m\n",
      "  Args:\n",
      "    query: Cristiano Ronaldo\n",
      "=================================\u001b[1m Tool Message \u001b[0m=================================\n",
      "Name: wikipedia\n",
      "\n",
      "Page: Cristiano Ronaldo\n",
      "Summary: Cristiano Ronaldo dos Santos Aveiro (Portuguese pronunciation: [kɾiʃˈtjɐnu ʁɔˈnaldu] ; born 5 February 1985) is a Portuguese professional footballer who plays as a forward for and captains both Saudi Pro League club Al-Nassr and the Portugal national team. Nicknamed CR7, he is widely regarded as one of the greatest players of all time, and has won numerous individual accolades throughout his professional footballing career, including five Ballon d'Or awards, a re\n",
      "==================================\u001b[1m Ai Message \u001b[0m==================================\n",
      "\n",
      "Cristiano Ronaldo dos Santos Aveiro (born February 5, 1985) is a Portuguese professional footballer widely regarded as one of the greatest players of all time. He currently plays as a forward for Al-Nassr in the Saudi Pro League and captains the Portugal national team. Known by the nickname \"CR7,\" he has earned numerous accolades, including five Ballon d'Or awards (given to the world's best player) and four UEFA Men's Player of the Year titles. His career highlights include successful stints at clubs like Manchester United, Real Madrid, and Juventus, along with scoring records in international football and Champions League goals.\n"
     ]
    }
   ],
   "source": [
    "# Calling wikipedia through llm\n",
    "\n",
    "messages=graph.invoke({\"messages\":\"who is ronaldo\"})\n",
    "for m in messages[\"messages\"]:\n",
    "    m.pretty_print()"
   ]
  },
  {
   "cell_type": "code",
   "execution_count": 26,
   "metadata": {},
   "outputs": [
    {
     "name": "stdout",
     "output_type": "stream",
     "text": [
      "================================\u001b[1m Human Message \u001b[0m=================================\n",
      "\n",
      "what is the latest news on virat kohli?\n",
      "==================================\u001b[1m Ai Message \u001b[0m==================================\n",
      "Tool Calls:\n",
      "  tavily_search_results_json (call_k3p8)\n",
      " Call ID: call_k3p8\n",
      "  Args:\n",
      "    query: Virat Kohli latest news\n",
      "=================================\u001b[1m Tool Message \u001b[0m=================================\n",
      "Name: tavily_search_results_json\n",
      "\n",
      "[{\"url\": \"https://sports.ndtv.com/cricket/virat-kohli-was-given-hint-about-captaincy-return-then-tone-changed-report-claims-reason-behind-retirement-8415430\", \"content\": \"Now, according to report, Virat Kohli was given a hint that he may be made the Indian cricket team Test captain again during India's Tour of Australia in December-January. In the video report by Sports Today, it is said that Kohli was hinted about a return to captaincy. This happened after India lost the second Test in Adelaide under Rohit Sharma's captaincy. [...] Virat Kohli's retirement from Test cricket has left Indian cricket with a vacuum that may not be filled for a long time. Already dealing with the retirements of Ravichandran Ashwin and Rohit Sharma, Indian Test cricket lost the services of another veteran when Kohli, through an Instagram post on May 12, announced that he would not longer be continuing in the longest format. That he was not keen on continuing in Tests was a buzz that was already quite loud in the days leading up to the [...] \\\"I asked him if will he would play County cricket before the Test matches. He said he wanted to play two India 'A' matches before the Test series (against England). It was already settled. Suddenly, we hear he will no longer play red ball cricket. There is no fitness issue. No form issue. He got one century in Australia, but he was not satisfied. During the Ranji Trophy, he was saying that he wants to score three-four centuries in England because is the most senior player in the team.\\\"\"}, {\"url\": \"https://www.bbc.com/news/articles/cp857gryxn1o\", \"content\": \"Australia is where Kohli had launched himself into batting greatness, scoring 692 runs in four Tests in 2014-15. In 2018, he contributed as captain and batter to break an hitherto unassailable psychological barrier. In 2020 touring Australia, Kohli played only one match (which was lost) returning home for the birth of his child. But India, having overcome the mental barrier two years earlier, went on to win the rubber in a melodramatic see-saw series. [...] The drought of runs hit him most adversely in Test cricket where his average, from a high of 55-plus in 2019 slumped to the current 46.75. In this period, Kohli also lost the captaincy, though his stellar standing in international cricket remained untouched. [...] When it appeared he would break all batting records, Kohli's career took an inexplicable downturn. From the start of the pandemic, the flow of runs began to ebb and centuries became a trickle. In his pomp – between 2014 and 2019 – he had been unstoppable, at one time scoring six double centuries in just 18 months.\"}, {\"url\": \"https://indianexpress.com/article/entertainment/bollywood/anushka-sharma-agrees-with-varun-grovers-note-for-virat-kohli-post-test-retirement-only-those-with-a-story-to-tell-10004423/\", \"content\": \"On May 12, Indian cricketer Virat Kohli announced his retirement from Test cricket with immediate effect, surprising and disheartening a legion of his fans. Several fans as well as famous personalities took to their social media handles to pen a note for the cricketer. While some respected his decision, others expressed disappointment, requesting the cricketer to rethink his decision. Now, stand up comedian-writer has penned a heartfelt note for the star cricketer, which received a special [...] Click here to follow Screen Digital on YouTube and stay updated with the latest from the world of cinema.\\n\\nMore Entertainment\\n\\nPhotos\\n\\nTop Stories\\n\\nMust Read\\n\\nMay 15: Latest News\"}, {\"url\": \"https://sports.ndtv.com/cricket/players/967-virat-kohli-playerprofile/news\", \"content\": \"Former Team India Fielding Coach \\\"Shocked\\\" At Virat Kohli's Sudden Test Retirement. Under Virat Kohli's leadership, India's record was 40 wins and 17 defeats in\"}, {\"url\": \"https://www.hindustantimes.com/cricket/virat-kohli-got-no-support-from-bcci-selectors-was-told-his-spot-is-no-longer-there-they-cited-his-form-in-last-5-years-101747238375497.html\", \"content\": \"The 36-year-old did experience a dip in form in the last five years, managing just 2028 runs in 68 innings with three centuries. The struggle even saw his career average drop to 46. Kohli showed signs of a comeback in the tour of Australia, where he scored a smashing ton in the Perth opener last November, but managed just 90 runs more in the rest of the tour as India lost 1-3.\\n\\nKaif felt Kohli's uncharacteristic approach in Australia was a sure indication that he was done with the format. [...] Virat Kohli's Instagram post on Monday (May 12), which garnered close to 18 million engagements in the last 48 hours, did not provide any information on why he suddenly decided to retire from Test cricket. The BCCI and its selectors, too, are numb. Hence, the announcement, which happened just days before the scheduled selection meeting for the England Test tour, sparked a plethora of speculations. [...] \\\"But given the last minute decision, having played the Ranji trophy, I definitely think he wanted to come back in the upcoming Tests. The developments in the last few weeks, he may have not gotten the support he thought he will get from BCCI and selectors which he may not have gotten,\\\" Kaif was quoted by NDTV.\\n\\n'Kohli looked in a hurry to score runs in Australia'\"}]\n",
      "==================================\u001b[1m Ai Message \u001b[0m==================================\n",
      "\n",
      "The latest news on Virat Kohli revolves around his **retirement from Test cricket**, announced on May 12, 2024. Key updates from recent reports include:\n",
      "\n",
      "### 1. **Reasons for Retirement**:\n",
      "   - **Form struggles**: Kohli’s Test average dropped to 46.75 in recent years, with critics citing a decline in performance post-2019. Despite a century in Australia, he scored only 90 more runs in the rest of the tour.\n",
      "   - **Lack of captaincy return**: Reports suggest he was hinted at a possible return to Test captaincy during India’s Australia tour, but this was later withdrawn. The BBC notes he lost the captaincy in 2021 and faced internal BCCI skepticism about his Test future.\n",
      "   - **BCCI’s stance**: Sources claim Kohli felt \"no longer supported\" by selectors, who priorited younger players (Hindustan Times).\n",
      "\n",
      "### 2. **Reactions**:\n",
      "   - **Critics and analysts** highlight his enduring legacy as one of the greatest batsmen but debate the timing of his decision.\n",
      "   - **Anushka Sharma** (his wife) echoed public sentiment, noting only those \"with a story to tell\" can handle retirement decisions so publicly (Indian Express).\n",
      "\n",
      "### 3. **Impact on Indian Cricket**:\n",
      "   - His exit leaves a leadership void, especially after the retirements of Rohit Sharma and Ashwin (NDTV).\n",
      "   - Former players speculate his decision stemmed from frustration over being overlooked for Test roles despite his Ranji Trophy comeback efforts.\n",
      "\n",
      "For more details, key sources include [NDTV](https://sports.ndtv.com), [BBC](https://www.bbc.com/news), and [Hindustan Times](https://www.hindustantimes.com).\n"
     ]
    }
   ],
   "source": [
    "# calling tavily through llm \n",
    "\n",
    "messages=graph.invoke({\"messages\":\"what is the latest news on virat kohli?\"})\n",
    "for m in messages[\"messages\"]:\n",
    "    m.pretty_print()"
   ]
  },
  {
   "cell_type": "code",
   "execution_count": 29,
   "metadata": {},
   "outputs": [
    {
     "name": "stdout",
     "output_type": "stream",
     "text": [
      "================================\u001b[1m Human Message \u001b[0m=================================\n",
      "\n",
      "what is the lastest research on AI and then who hosted the fifa world cup 2022?\n",
      "==================================\u001b[1m Ai Message \u001b[0m==================================\n",
      "Tool Calls:\n",
      "  arxiv (call_gjpz)\n",
      " Call ID: call_gjpz\n",
      "  Args:\n",
      "    query: latest AI research\n",
      "  wikipedia (call_hen7)\n",
      " Call ID: call_hen7\n",
      "  Args:\n",
      "    query: FIFA World Cup 2022\n",
      "=================================\u001b[1m Tool Message \u001b[0m=================================\n",
      "Name: arxiv\n",
      "\n",
      "Published: 2021-04-27\n",
      "Title: Enabling AI in Future Wireless Networks: A Data Life Cycle Perspective\n",
      "Authors: Dinh C. Nguyen, Peng Cheng, Ming Ding, David Lopez-Perez, Pubudu N. Pathirana, Jun Li, Aruna Seneviratne, Yonghui Li, H. Vincent Poor\n",
      "Summary: Recent years have seen rapid deployment of mobile computing and Internet of\n",
      "Things (IoT) networks, which can be mostly attributed to the increasing\n",
      "communication and sensing capabilities of wireless systems. Big data analysis,\n",
      "pervasive computing, \n",
      "=================================\u001b[1m Tool Message \u001b[0m=================================\n",
      "Name: wikipedia\n",
      "\n",
      "Page: 2022 FIFA World Cup\n",
      "Summary: The 2022 FIFA World Cup was the 22nd FIFA World Cup, the quadrennial world championship for national football teams organized by FIFA. It took place in Qatar from 20 November to 18 December 2022, after the country was awarded the hosting rights in 2010. It was the first World Cup to be held in the Middle East and Persian Gulf countries, and the second in an Asian country after the 2002 tournament in South Korea and Japan.\n",
      "This tournament was the last with 32 pa\n",
      "==================================\u001b[1m Ai Message \u001b[0m==================================\n",
      "\n",
      "Here’s the information based on the tool responses:\n",
      "\n",
      "1. **Latest AI Research**:  \n",
      "   The tool returned a paper titled *\"Enabling AI in Future Wireless Networks: A Data Life Cycle Perspective\"* (published in 2021). This suggests ongoing research on AI integration with wireless networks and data analysis. However, note that this paper is from 2021. For truly *latest* research (2023-2024), you may need to check ArXiv again with a more specific query or use the `tavali_search_results_json` tool to find recent publications.  \n",
      "\n",
      "2. **2022 FIFA World Cup Host**:  \n",
      "   The 2022 FIFA World Cup was hosted by **Qatar**, marking the first time the tournament was held in the Middle East and the Persian Gulf region. It took place from November 20 to December 18, 2022.  \n",
      "\n",
      "Let me know if you’d like further details!\n"
     ]
    }
   ],
   "source": [
    "# calling multiple tools at the same time \n",
    "\n",
    "messages=graph.invoke({\"messages\":\"what is the lastest research on AI and then who hosted the fifa world cup 2022?\"})\n",
    "for m in messages[\"messages\"]:\n",
    "    m.pretty_print()"
   ]
  },
  {
   "cell_type": "code",
   "execution_count": null,
   "metadata": {},
   "outputs": [],
   "source": []
  }
 ],
 "metadata": {
  "kernelspec": {
   "display_name": "Python 3",
   "language": "python",
   "name": "python3"
  },
  "language_info": {
   "codemirror_mode": {
    "name": "ipython",
    "version": 3
   },
   "file_extension": ".py",
   "mimetype": "text/x-python",
   "name": "python",
   "nbconvert_exporter": "python",
   "pygments_lexer": "ipython3",
   "version": "3.12.0"
  }
 },
 "nbformat": 4,
 "nbformat_minor": 2
}
