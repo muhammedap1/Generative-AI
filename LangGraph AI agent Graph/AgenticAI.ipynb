{
 "cells": [
  {
   "cell_type": "code",
   "execution_count": 32,
   "metadata": {},
   "outputs": [],
   "source": [
    "from typing_extensions import TypedDict"
   ]
  },
  {
   "cell_type": "code",
   "execution_count": 33,
   "metadata": {},
   "outputs": [],
   "source": [
    "class State(TypedDict):\n",
    "    graph_info:str"
   ]
  },
  {
   "cell_type": "code",
   "execution_count": 34,
   "metadata": {},
   "outputs": [],
   "source": [
    "def start_play(state:State):\n",
    "    print('Start Play node has been called')\n",
    "    return {'graph_info':state['graph_info']+ \" I am planning to play\"}\n",
    "\n",
    "def cricket(state:State):\n",
    "    print('Cricket node has been called')\n",
    "    return {'graph_info':state['graph_info']+' Cricket'} \n",
    "\n",
    "def badminton(state:State):\n",
    "    print('Badminton node has been called')\n",
    "    return {'graph_info':state['graph_info']+' Badminton'} "
   ]
  },
  {
   "cell_type": "code",
   "execution_count": 35,
   "metadata": {},
   "outputs": [],
   "source": [
    "import random\n",
    "from typing import Literal\n",
    "\n",
    "def random_play(state:State)->Literal['cricket','badminton']:\n",
    "    if random.random()>0.5:\n",
    "        return 'cricket'\n",
    "    else:\n",
    "        return 'badminton'\n",
    "        "
   ]
  },
  {
   "cell_type": "code",
   "execution_count": 36,
   "metadata": {},
   "outputs": [],
   "source": [
    "from IPython.display import Image,display\n"
   ]
  },
  {
   "cell_type": "code",
   "execution_count": 37,
   "metadata": {},
   "outputs": [],
   "source": [
    "from langgraph.graph import StateGraph,START,END"
   ]
  },
  {
   "cell_type": "code",
   "execution_count": 38,
   "metadata": {},
   "outputs": [
    {
     "data": {
      "text/plain": [
       "<langgraph.graph.state.StateGraph at 0x2ac9cc47d70>"
      ]
     },
     "execution_count": 38,
     "metadata": {},
     "output_type": "execute_result"
    }
   ],
   "source": [
    "graph=StateGraph(State)\n",
    "\n",
    "graph.add_node('start_play',start_play)\n",
    "graph.add_node('cricket',cricket)\n",
    "graph.add_node('badminton',badminton)\n"
   ]
  },
  {
   "cell_type": "code",
   "execution_count": 39,
   "metadata": {},
   "outputs": [
    {
     "data": {
      "text/plain": [
       "<langgraph.graph.state.StateGraph at 0x2ac9cc47d70>"
      ]
     },
     "execution_count": 39,
     "metadata": {},
     "output_type": "execute_result"
    }
   ],
   "source": [
    "graph.add_edge(START,'start_play')\n",
    "graph.add_conditional_edges('start_play',random_play)\n",
    "graph.add_edge('badminton',END)\n",
    "graph.add_edge('cricket',END)"
   ]
  },
  {
   "cell_type": "code",
   "execution_count": 40,
   "metadata": {},
   "outputs": [],
   "source": [
    "graph_builder=graph.compile()"
   ]
  },
  {
   "cell_type": "code",
   "execution_count": 43,
   "metadata": {},
   "outputs": [
    {
     "data": {
      "text/markdown": [
       "```mermaid\n",
       "%%{init: {'flowchart': {'curve': 'linear'}}}%%\n",
       "graph TD;\n",
       "\t__start__([<p>__start__</p>]):::first\n",
       "\tstart_play(start_play)\n",
       "\tcricket(cricket)\n",
       "\tbadminton(badminton)\n",
       "\t__end__([<p>__end__</p>]):::last\n",
       "\t__start__ --> start_play;\n",
       "\tstart_play -.-> badminton;\n",
       "\tstart_play -.-> cricket;\n",
       "\tbadminton --> __end__;\n",
       "\tcricket --> __end__;\n",
       "\tclassDef default fill:#f2f0ff,line-height:1.2\n",
       "\tclassDef first fill-opacity:0\n",
       "\tclassDef last fill:#bfb6fc\n",
       "\n",
       "```"
      ],
      "text/plain": [
       "<IPython.core.display.Markdown object>"
      ]
     },
     "metadata": {},
     "output_type": "display_data"
    }
   ],
   "source": [
    "from IPython.display import Markdown\n",
    "\n",
    "graph_md = graph_builder.get_graph().draw_mermaid()\n",
    "display(Markdown(f\"```mermaid\\n{graph_md}\\n```\"))\n"
   ]
  },
  {
   "cell_type": "code",
   "execution_count": 41,
   "metadata": {},
   "outputs": [],
   "source": [
    "g=graph.compile()"
   ]
  },
  {
   "cell_type": "code",
   "execution_count": 42,
   "metadata": {},
   "outputs": [
    {
     "name": "stdout",
     "output_type": "stream",
     "text": [
      "Start Play node has been called\n",
      "Badminton node has been called\n"
     ]
    },
    {
     "data": {
      "text/plain": [
       "{'graph_info': 'my name is muhammed I am planning to play Badminton'}"
      ]
     },
     "execution_count": 42,
     "metadata": {},
     "output_type": "execute_result"
    }
   ],
   "source": [
    "g.invoke({'graph_info':\"my name is muhammed\"})"
   ]
  },
  {
   "cell_type": "code",
   "execution_count": null,
   "metadata": {},
   "outputs": [],
   "source": []
  },
  {
   "cell_type": "code",
   "execution_count": null,
   "metadata": {},
   "outputs": [],
   "source": []
  }
 ],
 "metadata": {
  "kernelspec": {
   "display_name": "Python 3",
   "language": "python",
   "name": "python3"
  },
  "language_info": {
   "codemirror_mode": {
    "name": "ipython",
    "version": 3
   },
   "file_extension": ".py",
   "mimetype": "text/x-python",
   "name": "python",
   "nbconvert_exporter": "python",
   "pygments_lexer": "ipython3",
   "version": "3.12.0"
  }
 },
 "nbformat": 4,
 "nbformat_minor": 2
}
